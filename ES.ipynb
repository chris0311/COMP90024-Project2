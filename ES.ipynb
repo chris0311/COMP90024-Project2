{
 "cells": [
  {
   "cell_type": "code",
   "execution_count": 60,
   "id": "46498d40-403c-4b25-b869-266230577f41",
   "metadata": {},
   "outputs": [
    {
     "name": "stdout",
     "output_type": "stream",
     "text": [
      "[{'health': 'green', 'status': 'open', 'index': '.geoip_databases', 'uuid': 'K_Zhjx6vQASeqBzyRFxNNw', 'pri': '1', 'rep': '0', 'docs.count': '33', 'docs.deleted': '0', 'store.size': '31.1mb', 'pri.store.size': '31.1mb'}, {'health': 'green', 'status': 'open', 'index': '.apm-custom-link', 'uuid': '3ldJVeZfQ1a6Ydo9dB6v2w', 'pri': '1', 'rep': '0', 'docs.count': '0', 'docs.deleted': '0', 'store.size': '226b', 'pri.store.size': '226b'}, {'health': 'green', 'status': 'open', 'index': '.apm-agent-configuration', 'uuid': 'RDTlbuKWRJeUY007cc9NNA', 'pri': '1', 'rep': '0', 'docs.count': '0', 'docs.deleted': '0', 'store.size': '226b', 'pri.store.size': '226b'}, {'health': 'green', 'status': 'open', 'index': '.kibana_task_manager_7.17.4_001', 'uuid': '40_U0RooTrGzevEiI9SEUw', 'pri': '1', 'rep': '0', 'docs.count': '17', 'docs.deleted': '4167', 'store.size': '592.6kb', 'pri.store.size': '592.6kb'}, {'health': 'green', 'status': 'open', 'index': '.kibana_7.17.4_001', 'uuid': 'Cmw8DhEJQOSLyn9peAQ34w', 'pri': '1', 'rep': '0', 'docs.count': '308', 'docs.deleted': '42', 'store.size': '2.4mb', 'pri.store.size': '2.4mb'}]\n"
     ]
    }
   ],
   "source": [
    "from elasticsearch import Elasticsearch\n",
    "import warnings\n",
    "warnings.filterwarnings(\"ignore\")\n",
    "\n",
    "# connect to your elasticsearch address and port\n",
    "es = Elasticsearch(\"http://localhost:9200\")\n",
    "\n",
    "# check the index list\n",
    "index_list = es.cat.indices(format=\"json\")\n",
    "print(index_list)"
   ]
  },
  {
   "cell_type": "code",
   "execution_count": 87,
   "id": "c0385245-6f2d-4df7-a586-d863d5df414f",
   "metadata": {},
   "outputs": [
    {
     "name": "stdout",
     "output_type": "stream",
     "text": [
      "[{'health': 'yellow', 'status': 'open', 'index': 'students', 'uuid': 'vzBtyAopTbGmCV-wQ8Wseg', 'pri': '3', 'rep': '1', 'docs.count': '0', 'docs.deleted': '0', 'store.size': '678b', 'pri.store.size': '678b'}]\n",
      "{'students': {'mappings': {'properties': {'course': {'type': 'text'}, 'id': {'type': 'keyword'}, 'mark': {'type': 'short'}, 'name': {'type': 'text'}}}}}\n"
     ]
    }
   ],
   "source": [
    "# modify your index_settings\n",
    "index_settings = {\n",
    "    \"settings\": {\n",
    "        \"number_of_shards\": 3,\n",
    "        \"number_of_replicas\": 1\n",
    "    },\n",
    "    \"mappings\": {\n",
    "        \"properties\": {\n",
    "            \"id\": {\n",
    "                \"type\": \"keyword\"\n",
    "            },\n",
    "            \"name\": {\n",
    "                \"type\": \"text\"\n",
    "            },\n",
    "            \"course\": {\n",
    "                \"type\": \"text\"\n",
    "            },\n",
    "            \"mark\": {\n",
    "                \"type\": \"short\"\n",
    "            }\n",
    "        }\n",
    "    }\n",
    "}\n",
    "\n",
    "# create index\n",
    "index_name = \"students\"\n",
    "es.indices.create(index=index_name, body=index_settings)\n",
    "index_list = es.cat.indices(format=\"json\")\n",
    "info = [index for index in index_list if index[\"index\"] == \"students\"]\n",
    "print(info)\n",
    "# get mapping of index\n",
    "mapping = es.indices.get_mapping(index=index_name)\n",
    "print(mapping)"
   ]
  },
  {
   "cell_type": "code",
   "execution_count": 86,
   "id": "c9ff7242-fba4-4eec-8f4d-6ec37aca76d5",
   "metadata": {},
   "outputs": [
    {
     "name": "stdout",
     "output_type": "stream",
     "text": [
      "[]\n"
     ]
    }
   ],
   "source": [
    "# delete index\n",
    "es.indices.delete(index='students', ignore=[400, 404])\n",
    "index_list = es.cat.indices(format=\"json\")\n",
    "info = [index for index in index_list if index[\"index\"] == \"students\"]\n",
    "print(info)"
   ]
  },
  {
   "cell_type": "code",
   "execution_count": 88,
   "id": "cbfcb97c-a5a4-4f54-a807-be57118a060a",
   "metadata": {},
   "outputs": [
    {
     "name": "stdout",
     "output_type": "stream",
     "text": [
      "{'took': 0, 'timed_out': False, '_shards': {'total': 3, 'successful': 3, 'skipped': 0, 'failed': 0}, 'hits': {'total': {'value': 0, 'relation': 'eq'}, 'max_score': None, 'hits': []}}\n"
     ]
    }
   ],
   "source": [
    "# determine the query rules\n",
    "query = {\"query\": {\"match_all\": {}}}\n",
    "\n",
    "result = es.search(index=index_name, body=query, size=10000) \n",
    "print(result)"
   ]
  },
  {
   "cell_type": "code",
   "execution_count": 89,
   "id": "e52a0f5d-58a1-4b9b-9156-15acee0d3173",
   "metadata": {},
   "outputs": [
    {
     "data": {
      "text/plain": [
       "ObjectApiResponse({'_index': 'students', '_type': '_doc', '_id': '0nrMHY8B9-nlTsXci5oo', '_version': 1, 'result': 'created', '_shards': {'total': 2, 'successful': 1, 'failed': 0}, '_seq_no': 0, '_primary_term': 1})"
      ]
     },
     "execution_count": 89,
     "metadata": {},
     "output_type": "execute_result"
    }
   ],
   "source": [
    "document_data = {\n",
    "    \"name\": \"John Smith\",\n",
    "    \"course\": \"Cloud Computing\",\n",
    "    \"mark\": 80\n",
    "}\n",
    "\n",
    "# insert document using auto id\n",
    "es.index(index=index_name, body=document_data)"
   ]
  },
  {
   "cell_type": "code",
   "execution_count": 90,
   "id": "9d5d5ed8-c334-4651-93f2-c4d445feaf6e",
   "metadata": {},
   "outputs": [
    {
     "data": {
      "text/plain": [
       "ObjectApiResponse({'_index': 'students', '_type': '_doc', '_id': 'my_own_id', '_version': 1, 'result': 'created', '_shards': {'total': 2, 'successful': 1, 'failed': 0}, '_seq_no': 1, '_primary_term': 1})"
      ]
     },
     "execution_count": 90,
     "metadata": {},
     "output_type": "execute_result"
    }
   ],
   "source": [
    "document_data = {\n",
    "    \"name\": \"Jane Doe\",\n",
    "    \"course\": \"Cloud Computing\",\n",
    "    \"mark\": 90\n",
    "}\n",
    "\n",
    "# insert document using specified id\n",
    "es.index(index=index_name, body=document_data, id=\"my_own_id\")"
   ]
  },
  {
   "cell_type": "code",
   "execution_count": 91,
   "id": "450f2755-ea5e-4c4e-a7ef-3794d2f9c14a",
   "metadata": {},
   "outputs": [
    {
     "data": {
      "text/plain": [
       "ObjectApiResponse({'_index': 'students', '_type': '_doc', '_id': '03rMHY8B9-nlTsXc1JrI', '_version': 1, 'result': 'created', '_shards': {'total': 2, 'successful': 1, 'failed': 0}, '_seq_no': 0, '_primary_term': 1})"
      ]
     },
     "execution_count": 91,
     "metadata": {},
     "output_type": "execute_result"
    }
   ],
   "source": [
    "document_data = {\n",
    "    \"name\": \"Jane John\",\n",
    "    \"course\": \"Cloud Computing\",\n",
    "    \"mark\": 100\n",
    "}\n",
    "\n",
    "# insert document using auto id\n",
    "es.index(index=index_name, body=document_data)"
   ]
  },
  {
   "cell_type": "code",
   "execution_count": 112,
   "id": "c48830c6-7a30-4888-831a-c366dea2d351",
   "metadata": {},
   "outputs": [
    {
     "name": "stdout",
     "output_type": "stream",
     "text": [
      "{'name': 'Jane John', 'course': 'Cloud Computing', 'mark': 100}\n",
      "{'name': 'John Smith', 'course': 'Cloud Computing', 'mark': 80}\n",
      "{'name': 'Jane Doe', 'course': 'Cloud Computing', 'mark': 90}\n"
     ]
    }
   ],
   "source": [
    "# define your query\n",
    "query = {\n",
    "    \"query\": {\n",
    "        \"match\": {\n",
    "            \"course\": \"cloud\"\n",
    "        }\n",
    "    }\n",
    "}\n",
    "\n",
    "# execute the query\n",
    "result = es.search(index=index_name, body=query)\n",
    "for hit in result['hits']['hits']:\n",
    "    print(hit['_source'])"
   ]
  },
  {
   "cell_type": "code",
   "execution_count": 93,
   "id": "7c14b004-0fe3-4f7a-95ec-5bbc9fe09bf7",
   "metadata": {},
   "outputs": [
    {
     "name": "stdout",
     "output_type": "stream",
     "text": [
      "{'name': 'Jane Doe', 'course': 'Cloud Computing', 'mark': 90}\n",
      "{'name': 'Jane John', 'course': 'Cloud Computing', 'mark': 100}\n"
     ]
    }
   ],
   "source": [
    "# define your query\n",
    "query = {\n",
    "    \"query\": {\n",
    "        \"match\": {\n",
    "            \"name\": \"Jane\"\n",
    "        }\n",
    "    }\n",
    "}\n",
    "\n",
    "# execute the query\n",
    "result = es.search(index=index_name, body=query)\n",
    "for hit in result['hits']['hits']:\n",
    "    print(hit['_source'])"
   ]
  },
  {
   "cell_type": "code",
   "execution_count": 98,
   "id": "5a5b613b-7239-4653-afb7-89309cb9cdc0",
   "metadata": {},
   "outputs": [],
   "source": [
    "# define your query\n",
    "query = {\n",
    "    \"query\": {\n",
    "        \"bool\": {\n",
    "            \"must\": [\n",
    "                {\n",
    "                    \"match\": {\n",
    "                        \"name\": \"Doe\"\n",
    "                    }\n",
    "                },\n",
    "                {\n",
    "                    \"match\": {\n",
    "                        \"name\": \"Smith\"\n",
    "                    }\n",
    "                }\n",
    "            ]\n",
    "        }\n",
    "    }\n",
    "}\n",
    "\n",
    "# execute the query\n",
    "result = es.search(index=index_name, body=query)\n",
    "for hit in result['hits']['hits']:\n",
    "    print(hit['_source'])"
   ]
  },
  {
   "cell_type": "code",
   "execution_count": 99,
   "id": "0fc4a0ec-99ce-42f7-ba72-9e419d0bfd62",
   "metadata": {},
   "outputs": [
    {
     "name": "stdout",
     "output_type": "stream",
     "text": [
      "{'name': 'John Smith', 'course': 'Cloud Computing', 'mark': 80}\n",
      "{'name': 'Jane Doe', 'course': 'Cloud Computing', 'mark': 90}\n"
     ]
    }
   ],
   "source": [
    "# define your query\n",
    "query = {\n",
    "    \"query\": {\n",
    "        \"bool\": {\n",
    "            \"should\": [\n",
    "                {\n",
    "                    \"match\": {\n",
    "                        \"name\": \"Doe\"\n",
    "                    }\n",
    "                },\n",
    "                {\n",
    "                    \"match\": {\n",
    "                        \"name\": \"Smith\"\n",
    "                    }\n",
    "                }\n",
    "            ]\n",
    "        }\n",
    "    }\n",
    "}\n",
    "\n",
    "# execute the query\n",
    "result = es.search(index=index_name, body=query)\n",
    "for hit in result['hits']['hits']:\n",
    "    print(hit['_source'])"
   ]
  },
  {
   "cell_type": "code",
   "execution_count": 129,
   "id": "970ff0c8-f8f8-4b2d-b835-79a074af7f98",
   "metadata": {},
   "outputs": [],
   "source": [
    "# define your query\n",
    "query = {\n",
    "    \"query\": {\n",
    "        \"bool\": {\n",
    "            \"must\": [\n",
    "                {\n",
    "                    \"match_phrase\": {\n",
    "                        \"name\": 'Jane John'\n",
    "                    }\n",
    "                },\n",
    "                {\n",
    "                    \"range\": {\n",
    "                        \"mark\": {\n",
    "                            \"lte\": 85\n",
    "                        }\n",
    "                    }\n",
    "                }\n",
    "            ]\n",
    "        }\n",
    "    }\n",
    "}\n",
    "\n",
    "# execute the query\n",
    "result = es.search(index=index_name, body=query)\n",
    "for hit in result['hits']['hits']:\n",
    "    print(hit['_source'])"
   ]
  },
  {
   "cell_type": "code",
   "execution_count": null,
   "id": "7f77fd4d-002f-4dfb-9860-1731373356c0",
   "metadata": {},
   "outputs": [],
   "source": []
  }
 ],
 "metadata": {
  "kernelspec": {
   "display_name": "Python 3 (ipykernel)",
   "language": "python",
   "name": "python3"
  },
  "language_info": {
   "codemirror_mode": {
    "name": "ipython",
    "version": 3
   },
   "file_extension": ".py",
   "mimetype": "text/x-python",
   "name": "python",
   "nbconvert_exporter": "python",
   "pygments_lexer": "ipython3",
   "version": "3.12.2"
  }
 },
 "nbformat": 4,
 "nbformat_minor": 5
}
