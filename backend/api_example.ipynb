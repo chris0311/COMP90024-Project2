{
 "cells": [
  {
   "cell_type": "markdown",
   "source": [],
   "metadata": {
    "collapsed": false
   }
  },
  {
   "cell_type": "code",
   "outputs": [],
   "source": [
    "import requests\n",
    "import pandas as pd\n",
    "import json"
   ],
   "metadata": {
    "collapsed": false
   }
  },
  {
   "cell_type": "markdown",
   "source": [
    "# Use API"
   ],
   "metadata": {
    "collapsed": false
   }
  },
  {
   "cell_type": "markdown",
   "source": [
    "## Elastic Search (adddata)"
   ],
   "metadata": {
    "collapsed": false
   }
  },
  {
   "cell_type": "code",
   "outputs": [],
   "source": [],
   "metadata": {
    "collapsed": false
   }
  },
  {
   "cell_type": "code",
   "outputs": [],
   "source": [
    "with open('../sa2.json', 'r') as file:\n",
    "    age = json.load(file)\n",
    "\n",
    "sa2_data = []\n",
    "for feature in age['features']:\n",
    "    sa2_code = feature['properties']['sa2_code_2021']\n",
    "    median_age = feature['properties']['median_age_persons']\n",
    "    sa2_data.append({'SA2_CODE21': sa2_code, 'median_age': median_age})\n",
    "\n",
    "sa2_df = pd.DataFrame(sa2_data)\n",
    "sa2_df"
   ],
   "metadata": {
    "collapsed": false
   }
  },
  {
   "cell_type": "code",
   "outputs": [],
   "source": [
    "sa2_list = sa2_df.to_dict('records')\n",
    "for i, row in enumerate(sa2_list):\n",
    "    row['id'] = i\n",
    "\n",
    "print(len(sa2_list))\n",
    "sa2_list"
   ],
   "metadata": {
    "collapsed": false
   }
  },
  {
   "cell_type": "code",
   "outputs": [],
   "source": [
    "res = requests.post(url='http://127.0.0.1:9090/adddata/sa2',\n",
    "                    headers={'Content-Type': 'application/json'},\n",
    "                    data=json.dumps(sa2_list))\n",
    "\n",
    "print(res.status_code, res.text)"
   ],
   "metadata": {
    "collapsed": false
   }
  },
  {
   "cell_type": "markdown",
   "source": [
    "## Data Processing APIs\n",
    "### Text Processing API"
   ],
   "metadata": {
    "collapsed": false
   }
  },
  {
   "cell_type": "code",
   "outputs": [],
   "source": [
    "text1 = '<p>A reminder of how things stand after round 7/24! 📊</p><p><a href=\"https://twitter.com/hashtag/F1\" class=\"mention hashtag\" rel=\"nofollow noopener noreferrer\" target=\"_blank\">#<span>F1</span></a>...'\n",
    "text2 = '<p>Iranian officials, state media confirm President Raisi killed in helicopter crash </p><p>The Iranian Cabinet of Ministers convened an emergency meeting on May 20 after the official confirmation...'\n",
    "text3= '<p>Autolobby raus aus den Kinderzimmern 🙈</p>'\n",
    "\n",
    "res1 = requests.post(url='http://127.0.0.1:9090/mpreprocess',\n",
    "                    headers={'Content-Type': 'application/json'},\n",
    "                    json={'text': text1})\n",
    "\n",
    "res2 = requests.post(url='http://127.0.0.1:9090/mpreprocess',\n",
    "                    headers={'Content-Type': 'application/json'},\n",
    "                    json={'text': text2})\n",
    "\n",
    "res3 = requests.post(url='http://127.0.0.1:9090/mpreprocess',\n",
    "                    headers={'Content-Type': 'application/json'},\n",
    "                    json={'text': text3})\n",
    "\n",
    "print(res1.status_code, res1.text)\n",
    "print(res2.status_code, res2.text)\n",
    "print(res3.status_code, res3.text)"
   ],
   "metadata": {
    "collapsed": false
   }
  },
  {
   "cell_type": "code",
   "outputs": [],
   "source": [
    "text1 = \"COMP90024 is the best subject\"\n",
    "text2 = \"I hate local computations\"\n",
    "text3 = \"I'm studying COMP90024\"\n",
    "text4 = res2.text\n",
    "\n",
    "res1 = requests.get(url='http://127.0.0.1:9090/sentiment',\n",
    "                    headers={'Content-Type': 'application/json'},\n",
    "                    json={'text': text1})\n",
    "\n",
    "res2 = requests.get(url='http://127.0.0.1:9090/sentiment',\n",
    "                    headers={'Content-Type': 'application/json'},\n",
    "                    json={'text': text2})\n",
    "\n",
    "res3 = requests.get(url='http://127.0.0.1:9090/sentiment',\n",
    "                    headers={'Content-Type': 'application/json'},\n",
    "                    json={'text': text3})\n",
    "\n",
    "res4 = requests.get(url='http://127.0.0.1:9090/sentiment',\n",
    "                    headers={'Content-Type': 'application/json'},\n",
    "                    json={'text': text4})\n",
    "\n",
    "print(res1.status_code, res1.text)\n",
    "print(res2.status_code, res2.text)\n",
    "print(res3.status_code, res3.text)\n",
    "print(res4.status_code, res4.text)"
   ],
   "metadata": {
    "collapsed": false
   }
  },
  {
   "cell_type": "markdown",
   "source": [],
   "metadata": {
    "collapsed": false
   }
  },
  {
   "cell_type": "markdown",
   "source": [
    "### Reformat Date"
   ],
   "metadata": {
    "collapsed": false
   }
  },
  {
   "cell_type": "code",
   "outputs": [],
   "source": [
    "date = \"2024-05-20 07:39:09+00:00\"\n",
    "date_res = requests.post(url=f'http://127.0.0.1:9090/mredate'\n",
    "                        , headers={'Content-Type': 'application/json'}\n",
    "                        , json={'date': date})\n",
    "\n",
    "print(date_res.status_code, date_res.text)"
   ],
   "metadata": {
    "collapsed": false
   }
  },
  {
   "cell_type": "markdown",
   "source": [
    "## Data Query APIs"
   ],
   "metadata": {
    "collapsed": false
   }
  },
  {
   "cell_type": "markdown",
   "source": [
    "### The concat API"
   ],
   "metadata": {
    "collapsed": false
   }
  },
  {
   "cell_type": "code",
   "outputs": [],
   "source": [
    "import requests\n",
    "import pandas as pd"
   ],
   "metadata": {
    "collapsed": false
   }
  },
  {
   "cell_type": "code",
   "outputs": [],
   "source": [
    "start_date = \"2024-05-17\"  # start date of data query\n",
    "end_date = \"2024-05-19\"  # end date of data query\n",
    "size = 2000  # max number of entries in the concat data (optional, default is 20)\n",
    "bsize = 2000  # max number of entries in the bom dataset (optional, default is 20)\n",
    "msize = 2000  # max number of entries in the mastodon dataset (optional, default is 20)\n",
    "\n",
    "res = requests.get(url=f'http://127.0.0.1:9090/concat/{start_date}/{end_date}?size={size}&bsize={bsize}&msize={msize}')\n",
    "\n",
    "print(res.status_code, res.json())"
   ],
   "metadata": {
    "collapsed": false
   }
  },
  {
   "cell_type": "code",
   "outputs": [],
   "source": [
    "res_df = pd.DataFrame(res.json())\n",
    "res_df['created_at'] = pd.to_datetime(res_df['created_at'])\n",
    "res_df"
   ],
   "metadata": {
    "collapsed": false
   }
  },
  {
   "cell_type": "code",
   "outputs": [],
   "source": [
    "# continue processing..."
   ],
   "metadata": {
    "collapsed": false
   }
  },
  {
   "cell_type": "markdown",
   "source": [
    "### The BOM API\n",
    "Use this api to query data in the BOM index"
   ],
   "metadata": {
    "collapsed": false
   }
  },
  {
   "cell_type": "code",
   "outputs": [],
   "source": [
    "# size parameter is used to limit the number of entries in the bom dataset\n",
    "size = 20\n",
    "bom_res = requests.get(url=f'http://127.0.0.1:9090/bomquery/{start_date}/{end_date}?size={size}')\n",
    "\n",
    "print(bom_res.status_code, bom_res.json())"
   ],
   "metadata": {
    "collapsed": false
   }
  },
  {
   "cell_type": "markdown",
   "source": [],
   "metadata": {
    "collapsed": false
   }
  },
  {
   "cell_type": "code",
   "outputs": [],
   "source": [
    "bom_hit = pd.DataFrame(bom_res.json()['hits']['hits'])\n",
    "bom_data = []\n",
    "for data in bom_hit['_source']:\n",
    "    bom_data.append(data)\n",
    "\n",
    "bom_df = pd.DataFrame(bom_data)\n",
    "bom_df"
   ],
   "metadata": {
    "collapsed": false
   }
  },
  {
   "cell_type": "code",
   "outputs": [],
   "source": [],
   "metadata": {
    "collapsed": false
   }
  },
  {
   "cell_type": "markdown",
   "source": [
    "### The Mostodon API"
   ],
   "metadata": {
    "collapsed": false
   }
  },
  {
   "cell_type": "code",
   "outputs": [],
   "source": [
    "# size parameter is used to limit the number of entries in the bom dataset\n",
    "size = 200\n",
    "m_res = requests.get(url=f'http://127.0.0.1:9090/mquery/{start_date}/{end_date}?size={size}')\n",
    "\n",
    "print(m_res.status_code, m_res.json())"
   ],
   "metadata": {
    "collapsed": false
   }
  },
  {
   "cell_type": "code",
   "outputs": [],
   "source": [
    "m_hit = pd.DataFrame(m_res.json()['hits']['hits'])\n",
    "m_data = []\n",
    "for data in m_hit['_source']:\n",
    "    m_data.append(data)\n",
    "\n",
    "m_df = pd.DataFrame(m_data)\n",
    "m_df"
   ],
   "metadata": {
    "collapsed": false
   }
  },
  {
   "cell_type": "markdown",
   "source": [],
   "metadata": {
    "collapsed": false
   }
  },
  {
   "cell_type": "markdown",
   "source": [
    "### SA2 API\n",
    "Use this api to retreive the median age given a `sa2_code`"
   ],
   "metadata": {
    "collapsed": false
   }
  },
  {
   "cell_type": "code",
   "outputs": [],
   "source": [
    "sa2_code = 101041024  # change this to the desired sa2 code\n",
    "\n",
    "age_res = requests.get(url=f'http://127.0.0.1:9090/sa2/{sa2_code}/age')\n",
    "\n",
    "print(age_res.status_code, age_res.text)\n",
    "print(f'median age: {age_res.text}')"
   ],
   "metadata": {
    "collapsed": false
   }
  },
  {
   "cell_type": "code",
   "execution_count": null,
   "outputs": [],
   "source": [],
   "metadata": {
    "collapsed": false
   }
  }
 ],
 "metadata": {
  "kernelspec": {
   "display_name": "COMP90024",
   "language": "python",
   "name": "python3"
  },
  "language_info": {
   "codemirror_mode": {
    "name": "ipython",
    "version": 3
   },
   "file_extension": ".py",
   "mimetype": "text/x-python",
   "name": "python",
   "nbconvert_exporter": "python",
   "pygments_lexer": "ipython3",
   "version": "3.11.9"
  }
 },
 "nbformat": 4,
 "nbformat_minor": 2
}
