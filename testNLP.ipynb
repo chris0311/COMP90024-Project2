{
 "cells": [
  {
   "cell_type": "markdown",
   "source": [
    "### preprocessing\n",
    "- remove special characters: `re.sub(r'[^\\w\\s]', '', text)`\n",
    "- remove quotes: `re.sub(r'[\"\\']', '', text)`\n",
    "- remove image (href): `re.sub(r'href=S+', '', text)`\n",
    "- remove links: `re.sub(r'http\\S+', '', text)`"
   ],
   "metadata": {
    "collapsed": false
   }
  },
  {
   "cell_type": "code",
   "execution_count": 12,
   "metadata": {
    "collapsed": true
   },
   "outputs": [
    {
     "name": "stdout",
     "output_type": "stream",
     "text": [
      "I love this product\n",
      "The service was terrible\n",
      "I dont like this product\n",
      " So Im on this Shinkansen train in Japan \n",
      "Tweet: I love this product\n",
      "Sentiment Score: 0.5\n",
      "Tweet: The service was terrible\n",
      "Sentiment Score: -1.0\n",
      "Tweet: I dont like this product\n",
      "Sentiment Score: 0.0\n",
      "Tweet:  So Im on this Shinkansen train in Japan \n",
      "Sentiment Score: 0.0\n"
     ]
    }
   ],
   "source": [
    "from textblob import TextBlob\n",
    "import re\n",
    "\n",
    "# example\n",
    "tweets = [\n",
    "    \"I love this product!\",\n",
    "    \"The service was terrible.\",\n",
    "    \"I don't like this product.\",\n",
    "    \"href=\\\"https://cloudisland.nz/tags/StarWa\\\" So, I'm on this Shinkansen train in Japan ...\",\n",
    "]\n",
    "\n",
    "# preprocess\n",
    "tweets = [re.sub(r'href=\\S+', '', tweet) for tweet in tweets]\n",
    "tweets = [re.sub(r'http\\S+', '', tweet) for tweet in tweets]\n",
    "tweets = [re.sub(r'[\"\\']', '', tweet) for tweet in tweets]\n",
    "tweets = [re.sub(r'[^\\w\\s]', '', tweet) for tweet in tweets]\n",
    "\n",
    "# print tweets\n",
    "for tweet in tweets:\n",
    "    print(tweet)\n",
    "\n",
    "for tweet in tweets:\n",
    "    blob = TextBlob(tweet)\n",
    "    sentiment = blob.sentiment.polarity\n",
    "    print(f\"Tweet: {tweet}\")\n",
    "    print(f\"Sentiment Score: {sentiment}\")"
   ]
  },
  {
   "cell_type": "code",
   "execution_count": null,
   "outputs": [],
   "source": [],
   "metadata": {
    "collapsed": false
   }
  }
 ],
 "metadata": {
  "kernelspec": {
   "display_name": "Python 3",
   "language": "python",
   "name": "python3"
  },
  "language_info": {
   "codemirror_mode": {
    "name": "ipython",
    "version": 2
   },
   "file_extension": ".py",
   "mimetype": "text/x-python",
   "name": "python",
   "nbconvert_exporter": "python",
   "pygments_lexer": "ipython2",
   "version": "2.7.6"
  }
 },
 "nbformat": 4,
 "nbformat_minor": 0
}
