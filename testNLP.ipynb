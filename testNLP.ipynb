{
 "cells": [
  {
   "cell_type": "code",
   "execution_count": 4,
   "metadata": {
    "collapsed": true
   },
   "outputs": [
    {
     "name": "stdout",
     "output_type": "stream",
     "text": [
      "Tweet: I love this product!\n",
      "Sentiment Score: 0.625\n",
      "Tweet: The service was terrible.\n",
      "Sentiment Score: -1.0\n",
      "Tweet: I don't like this product.\n",
      "Sentiment Score: 0.0\n"
     ]
    }
   ],
   "source": [
    "from textblob import TextBlob\n",
    "\n",
    "# example\n",
    "tweets = [\n",
    "    \"I love this product!\",\n",
    "    \"The service was terrible.\",\n",
    "    \"I don't like this product.\",\n",
    "]\n",
    "\n",
    "for tweet in tweets:\n",
    "    blob = TextBlob(tweet)\n",
    "    sentiment = blob.sentiment.polarity\n",
    "    print(f\"Tweet: {tweet}\")\n",
    "    print(f\"Sentiment Score: {sentiment}\")"
   ]
  },
  {
   "cell_type": "code",
   "execution_count": null,
   "outputs": [],
   "source": [],
   "metadata": {
    "collapsed": false
   }
  }
 ],
 "metadata": {
  "kernelspec": {
   "display_name": "Python 3",
   "language": "python",
   "name": "python3"
  },
  "language_info": {
   "codemirror_mode": {
    "name": "ipython",
    "version": 2
   },
   "file_extension": ".py",
   "mimetype": "text/x-python",
   "name": "python",
   "nbconvert_exporter": "python",
   "pygments_lexer": "ipython2",
   "version": "2.7.6"
  }
 },
 "nbformat": 4,
 "nbformat_minor": 0
}
