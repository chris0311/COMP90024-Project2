{
 "cells": [
  {
   "cell_type": "code",
   "execution_count": 14,
   "id": "2899d960",
   "metadata": {},
   "outputs": [
    {
     "name": "stdout",
     "output_type": "stream",
     "text": [
      "dan@cloudisland.nz: 112380943682323563\n",
      "aggualaqisaaq@mastodon.sdf.org: 112380943497907801\n"
     ]
    }
   ],
   "source": [
    "from mastodon import Mastodon\n",
    "import json, time\n",
    "\n",
    "# For initialization, some server/feature/operation does not need token, while for others, apply for token\n",
    "m = Mastodon(\n",
    "    api_base_url=f'https://mastodon.au'\n",
    "    # use the url of the server such as https://aus.social for https://aus.social/explore\n",
    ")\n",
    "\n",
    "# Use timer or loop to achieve streaming harvester, be ware of the frequency\n",
    "lastid = m.timeline(timeline='public', since_id=None, limit=1, remote=True)[0]['id']\n",
    "time.sleep(10)\n",
    "mastodon_data = m.timeline(timeline='public', since_id=lastid, remote=True)\n",
    "for i in range(len(mastodon_data)):\n",
    "    print(f\"{mastodon_data[i].account.acct}: {mastodon_data[i].id}\")\n",
    "# while(1):\n",
    "#     data = m.timeline(timeline='public', since_id=lastid, remote=True)\n",
    "#     lastid = lastid if not data else data[-1]['id']\n",
    "#     print(m.status(lastid))\n",
    "#     time.sleep(1)"
   ]
  },
  {
   "cell_type": "code",
   "execution_count": 4,
   "id": "67d9176b",
   "metadata": {},
   "outputs": [],
   "source": [
    "import pandas as pd\n"
   ]
  },
  {
   "cell_type": "code",
   "execution_count": 16,
   "id": "f84e0a01",
   "metadata": {},
   "outputs": [],
   "source": [
    "df = pd.DataFrame(mastodon_data)"
   ]
  },
  {
   "cell_type": "code",
   "execution_count": 17,
   "id": "689f3e37",
   "metadata": {},
   "outputs": [
    {
     "name": "stdout",
     "output_type": "stream",
     "text": [
      "                   id                created_at in_reply_to_id  \\\n",
      "0  112380943682323563 2024-05-04 04:31:49+00:00           None   \n",
      "1  112380943497907801 2024-05-04 04:31:48+00:00           None   \n",
      "\n",
      "  in_reply_to_account_id  sensitive spoiler_text visibility language  \\\n",
      "0                   None      False                  public       en   \n",
      "1                   None      False                  public       en   \n",
      "\n",
      "                                                 uri  \\\n",
      "0  https://cloudisland.nz/users/dan/statuses/1123...   \n",
      "1  https://mastodon.sdf.org/users/aggualaqisaaq/s...   \n",
      "\n",
      "                                                 url  ...  edited_at  \\\n",
      "0     https://cloudisland.nz/@dan/112380943383915237  ...       None   \n",
      "1  https://mastodon.sdf.org/@aggualaqisaaq/112380...  ...       None   \n",
      "\n",
      "                                             content  reblog  \\\n",
      "0  <p><a href=\"https://cloudisland.nz/tags/StarWa...    None   \n",
      "1  <p>Pentagon’s Upcoming New Arctic Strategy: \"W...    None   \n",
      "\n",
      "                                             account  \\\n",
      "0  {'id': 109368542950361744, 'username': 'dan', ...   \n",
      "1  {'id': 109527820437264259, 'username': 'aggual...   \n",
      "\n",
      "                                   media_attachments mentions  \\\n",
      "0  [{'id': 112380943579894714, 'type': 'image', '...       []   \n",
      "1                                                 []       []   \n",
      "\n",
      "                                                tags emojis  card  poll  \n",
      "0  [{'name': 'starwarsday', 'url': 'https://masto...     []  None  None  \n",
      "1  [{'name': 'norway', 'url': 'https://mastodon.a...     []  None  None  \n",
      "\n",
      "[2 rows x 23 columns]\n"
     ]
    }
   ],
   "source": [
    "print(df.head())"
   ]
  },
  {
   "cell_type": "code",
   "execution_count": 10,
   "id": "bd0dd7da",
   "metadata": {},
   "outputs": [
    {
     "name": "stdout",
     "output_type": "stream",
     "text": [
      "<class 'pandas.core.frame.DataFrame'>\n",
      "RangeIndex: 5 entries, 0 to 4\n",
      "Data columns (total 23 columns):\n",
      " #   Column                  Non-Null Count  Dtype                  \n",
      "---  ------                  --------------  -----                  \n",
      " 0   id                      5 non-null      int64                  \n",
      " 1   created_at              5 non-null      datetime64[ns, tzutc()]\n",
      " 2   in_reply_to_id          1 non-null      float64                \n",
      " 3   in_reply_to_account_id  1 non-null      float64                \n",
      " 4   sensitive               5 non-null      bool                   \n",
      " 5   spoiler_text            5 non-null      object                 \n",
      " 6   visibility              5 non-null      object                 \n",
      " 7   language                5 non-null      object                 \n",
      " 8   uri                     5 non-null      object                 \n",
      " 9   url                     5 non-null      object                 \n",
      " 10  replies_count           5 non-null      int64                  \n",
      " 11  reblogs_count           5 non-null      int64                  \n",
      " 12  favourites_count        5 non-null      int64                  \n",
      " 13  edited_at               0 non-null      object                 \n",
      " 14  content                 5 non-null      object                 \n",
      " 15  reblog                  0 non-null      object                 \n",
      " 16  account                 5 non-null      object                 \n",
      " 17  media_attachments       5 non-null      object                 \n",
      " 18  mentions                5 non-null      object                 \n",
      " 19  tags                    5 non-null      object                 \n",
      " 20  emojis                  5 non-null      object                 \n",
      " 21  card                    1 non-null      object                 \n",
      " 22  poll                    0 non-null      object                 \n",
      "dtypes: bool(1), datetime64[ns, tzutc()](1), float64(2), int64(4), object(15)\n",
      "memory usage: 1013.0+ bytes\n",
      "None\n"
     ]
    }
   ],
   "source": [
    "print(df.info())"
   ]
  },
  {
   "cell_type": "code",
   "execution_count": 11,
   "id": "201d5fb8",
   "metadata": {},
   "outputs": [
    {
     "name": "stdout",
     "output_type": "stream",
     "text": [
      "                 id  in_reply_to_id  in_reply_to_account_id  replies_count  \\\n",
      "count  5.000000e+00    1.000000e+00            1.000000e+00            5.0   \n",
      "mean   1.123807e+17    1.123807e+17            1.093651e+17            0.0   \n",
      "std    2.013958e+08             NaN                     NaN            0.0   \n",
      "min    1.123807e+17    1.123807e+17            1.093651e+17            0.0   \n",
      "25%    1.123807e+17    1.123807e+17            1.093651e+17            0.0   \n",
      "50%    1.123807e+17    1.123807e+17            1.093651e+17            0.0   \n",
      "75%    1.123807e+17    1.123807e+17            1.093651e+17            0.0   \n",
      "max    1.123807e+17    1.123807e+17            1.093651e+17            0.0   \n",
      "\n",
      "       reblogs_count  favourites_count  \n",
      "count            5.0               5.0  \n",
      "mean             0.0               0.0  \n",
      "std              0.0               0.0  \n",
      "min              0.0               0.0  \n",
      "25%              0.0               0.0  \n",
      "50%              0.0               0.0  \n",
      "75%              0.0               0.0  \n",
      "max              0.0               0.0  \n"
     ]
    }
   ],
   "source": [
    "print(df.describe())"
   ]
  },
  {
   "cell_type": "code",
   "execution_count": 18,
   "id": "292fb440",
   "metadata": {},
   "outputs": [
    {
     "name": "stdout",
     "output_type": "stream",
     "text": [
      "0    <p><a href=\"https://cloudisland.nz/tags/StarWa...\n",
      "1    <p>Pentagon’s Upcoming New Arctic Strategy: \"W...\n",
      "Name: content, dtype: object\n"
     ]
    }
   ],
   "source": [
    "print(df['content'].head(10))"
   ]
  },
  {
   "cell_type": "code",
   "execution_count": 19,
   "id": "b2918c4f",
   "metadata": {},
   "outputs": [
    {
     "name": "stdout",
     "output_type": "stream",
     "text": [
      "04/02:30pm air_temp: 15.0, wind_spd_kmh: 0\n",
      "04/02:00pm air_temp: 15.4, wind_spd_kmh: 4\n",
      "04/01:30pm air_temp: 14.2, wind_spd_kmh: 7\n",
      "04/01:00pm air_temp: 13.5, wind_spd_kmh: 7\n",
      "04/12:30pm air_temp: 14.0, wind_spd_kmh: 7\n",
      "04/12:00pm air_temp: 13.4, wind_spd_kmh: 6\n",
      "04/11:30am air_temp: 13.2, wind_spd_kmh: 6\n",
      "04/11:00am air_temp: 11.8, wind_spd_kmh: 2\n",
      "04/10:30am air_temp: 10.5, wind_spd_kmh: 6\n",
      "04/10:00am air_temp: 9.4, wind_spd_kmh: 6\n",
      "04/09:30am air_temp: 8.8, wind_spd_kmh: 7\n",
      "04/09:00am air_temp: 8.5, wind_spd_kmh: 7\n",
      "04/08:30am air_temp: 7.8, wind_spd_kmh: 6\n",
      "04/08:28am air_temp: 7.7, wind_spd_kmh: 4\n",
      "04/08:00am air_temp: 6.7, wind_spd_kmh: 2\n",
      "04/07:30am air_temp: 6.2, wind_spd_kmh: 7\n",
      "04/07:00am air_temp: 6.5, wind_spd_kmh: 2\n",
      "04/06:30am air_temp: 6.3, wind_spd_kmh: 2\n",
      "04/06:00am air_temp: 6.7, wind_spd_kmh: 6\n",
      "04/05:30am air_temp: 6.4, wind_spd_kmh: 2\n",
      "04/05:00am air_temp: 6.7, wind_spd_kmh: 0\n",
      "04/04:30am air_temp: 7.2, wind_spd_kmh: 4\n",
      "04/04:00am air_temp: 7.7, wind_spd_kmh: 7\n",
      "04/03:30am air_temp: 7.1, wind_spd_kmh: 0\n",
      "04/03:00am air_temp: 7.3, wind_spd_kmh: 0\n",
      "04/02:30am air_temp: 7.8, wind_spd_kmh: 0\n",
      "04/02:00am air_temp: 8.4, wind_spd_kmh: 2\n",
      "04/01:30am air_temp: 8.4, wind_spd_kmh: 0\n",
      "04/01:00am air_temp: 8.5, wind_spd_kmh: 0\n",
      "04/12:30am air_temp: 8.9, wind_spd_kmh: 2\n",
      "04/12:00am air_temp: 9.5, wind_spd_kmh: 0\n",
      "03/11:30pm air_temp: 10.1, wind_spd_kmh: 0\n",
      "03/11:00pm air_temp: 10.5, wind_spd_kmh: 0\n",
      "03/10:30pm air_temp: 10.9, wind_spd_kmh: 2\n",
      "03/10:00pm air_temp: 11.7, wind_spd_kmh: 4\n",
      "03/09:30pm air_temp: 12.4, wind_spd_kmh: 6\n",
      "03/09:00pm air_temp: 13.0, wind_spd_kmh: 7\n",
      "03/08:30pm air_temp: 13.5, wind_spd_kmh: 7\n",
      "03/08:00pm air_temp: 13.6, wind_spd_kmh: 7\n",
      "03/07:30pm air_temp: 13.3, wind_spd_kmh: 4\n",
      "03/07:00pm air_temp: 13.6, wind_spd_kmh: 4\n",
      "03/06:30pm air_temp: 13.3, wind_spd_kmh: 0\n",
      "03/06:00pm air_temp: 13.9, wind_spd_kmh: 2\n",
      "03/05:30pm air_temp: 14.6, wind_spd_kmh: 6\n",
      "03/05:00pm air_temp: 15.4, wind_spd_kmh: 2\n",
      "03/04:30pm air_temp: 15.8, wind_spd_kmh: 9\n",
      "03/04:00pm air_temp: 16.6, wind_spd_kmh: 7\n",
      "03/03:30pm air_temp: 16.6, wind_spd_kmh: 6\n",
      "03/03:00pm air_temp: 16.4, wind_spd_kmh: 7\n",
      "03/02:30pm air_temp: 15.9, wind_spd_kmh: 9\n",
      "03/02:00pm air_temp: 15.3, wind_spd_kmh: 7\n",
      "03/01:30pm air_temp: 14.8, wind_spd_kmh: 7\n",
      "03/01:00pm air_temp: 14.8, wind_spd_kmh: 7\n",
      "03/12:30pm air_temp: 15.2, wind_spd_kmh: 4\n",
      "03/12:00pm air_temp: 14.1, wind_spd_kmh: 6\n",
      "03/11:30am air_temp: 13.8, wind_spd_kmh: 6\n",
      "03/11:00am air_temp: 13.5, wind_spd_kmh: 4\n",
      "03/10:30am air_temp: 12.8, wind_spd_kmh: 4\n",
      "03/10:00am air_temp: 11.8, wind_spd_kmh: 4\n",
      "03/09:30am air_temp: 10.1, wind_spd_kmh: 4\n",
      "03/09:00am air_temp: 8.9, wind_spd_kmh: 7\n",
      "03/08:30am air_temp: 7.7, wind_spd_kmh: 7\n",
      "03/08:00am air_temp: 7.1, wind_spd_kmh: 9\n",
      "03/07:30am air_temp: 6.7, wind_spd_kmh: 9\n",
      "03/07:00am air_temp: 6.8, wind_spd_kmh: 7\n",
      "03/06:30am air_temp: 6.8, wind_spd_kmh: 7\n",
      "03/06:00am air_temp: 6.9, wind_spd_kmh: 6\n",
      "03/05:30am air_temp: 7.0, wind_spd_kmh: 9\n",
      "03/05:00am air_temp: 7.2, wind_spd_kmh: 9\n",
      "03/04:30am air_temp: 7.3, wind_spd_kmh: 7\n",
      "03/04:00am air_temp: 7.4, wind_spd_kmh: 6\n",
      "03/03:30am air_temp: 7.7, wind_spd_kmh: 7\n",
      "03/03:00am air_temp: 7.9, wind_spd_kmh: 9\n",
      "03/02:30am air_temp: 8.2, wind_spd_kmh: 11\n",
      "03/02:00am air_temp: 8.5, wind_spd_kmh: 9\n",
      "03/01:30am air_temp: 8.2, wind_spd_kmh: 2\n",
      "03/01:00am air_temp: 8.3, wind_spd_kmh: 2\n",
      "03/12:30am air_temp: 8.5, wind_spd_kmh: 6\n",
      "03/12:00am air_temp: 8.7, wind_spd_kmh: 0\n",
      "02/11:30pm air_temp: 8.7, wind_spd_kmh: 0\n",
      "02/11:00pm air_temp: 9.0, wind_spd_kmh: 0\n",
      "02/10:30pm air_temp: 9.3, wind_spd_kmh: 0\n",
      "02/10:00pm air_temp: 9.8, wind_spd_kmh: 0\n",
      "02/09:30pm air_temp: 10.1, wind_spd_kmh: 0\n",
      "02/09:00pm air_temp: 10.7, wind_spd_kmh: 0\n",
      "02/08:30pm air_temp: 11.0, wind_spd_kmh: 0\n",
      "02/08:00pm air_temp: 11.3, wind_spd_kmh: 0\n",
      "02/07:30pm air_temp: 11.8, wind_spd_kmh: 0\n",
      "02/07:00pm air_temp: 12.3, wind_spd_kmh: 2\n",
      "02/06:30pm air_temp: 12.4, wind_spd_kmh: 0\n",
      "02/06:00pm air_temp: 12.9, wind_spd_kmh: 2\n",
      "02/05:30pm air_temp: 13.6, wind_spd_kmh: 6\n",
      "02/05:00pm air_temp: 14.6, wind_spd_kmh: 4\n",
      "02/04:30pm air_temp: 16.1, wind_spd_kmh: 2\n",
      "02/04:00pm air_temp: 15.7, wind_spd_kmh: 4\n",
      "02/03:30pm air_temp: 15.7, wind_spd_kmh: 9\n",
      "02/03:00pm air_temp: 16.2, wind_spd_kmh: 6\n",
      "02/02:30pm air_temp: 16.1, wind_spd_kmh: 6\n",
      "02/02:00pm air_temp: 16.0, wind_spd_kmh: 4\n",
      "02/01:30pm air_temp: 16.0, wind_spd_kmh: 2\n",
      "02/01:00pm air_temp: 14.8, wind_spd_kmh: 6\n",
      "02/12:30pm air_temp: 14.3, wind_spd_kmh: 6\n",
      "02/12:00pm air_temp: 13.5, wind_spd_kmh: 7\n",
      "02/11:30am air_temp: 12.4, wind_spd_kmh: 4\n",
      "02/11:00am air_temp: 11.5, wind_spd_kmh: 2\n",
      "02/10:30am air_temp: 10.9, wind_spd_kmh: 0\n",
      "02/10:00am air_temp: 10.8, wind_spd_kmh: 2\n",
      "02/09:30am air_temp: 10.5, wind_spd_kmh: 6\n",
      "02/09:00am air_temp: 10.3, wind_spd_kmh: 6\n",
      "02/08:30am air_temp: 10.1, wind_spd_kmh: 6\n",
      "02/08:00am air_temp: 9.8, wind_spd_kmh: 6\n",
      "02/07:30am air_temp: 9.5, wind_spd_kmh: 6\n",
      "02/07:00am air_temp: 9.3, wind_spd_kmh: 4\n",
      "02/06:30am air_temp: 9.0, wind_spd_kmh: 6\n",
      "02/06:00am air_temp: 9.0, wind_spd_kmh: 9\n",
      "02/05:30am air_temp: 9.0, wind_spd_kmh: 7\n",
      "02/05:00am air_temp: 9.6, wind_spd_kmh: 0\n",
      "02/04:30am air_temp: 9.4, wind_spd_kmh: 2\n",
      "02/04:00am air_temp: 8.7, wind_spd_kmh: 0\n",
      "02/03:30am air_temp: 8.3, wind_spd_kmh: 0\n",
      "02/03:00am air_temp: 8.9, wind_spd_kmh: 0\n",
      "02/02:30am air_temp: 9.3, wind_spd_kmh: 0\n",
      "02/02:00am air_temp: 10.0, wind_spd_kmh: 2\n",
      "02/01:30am air_temp: 10.6, wind_spd_kmh: 4\n",
      "02/01:00am air_temp: 10.9, wind_spd_kmh: 0\n",
      "02/12:30am air_temp: 11.4, wind_spd_kmh: 7\n",
      "02/12:00am air_temp: 11.8, wind_spd_kmh: 7\n",
      "01/11:30pm air_temp: 12.1, wind_spd_kmh: 9\n",
      "01/11:00pm air_temp: 12.5, wind_spd_kmh: 9\n",
      "01/10:30pm air_temp: 12.7, wind_spd_kmh: 9\n",
      "01/10:00pm air_temp: 12.8, wind_spd_kmh: 9\n",
      "01/09:30pm air_temp: 13.2, wind_spd_kmh: 11\n",
      "01/09:00pm air_temp: 13.6, wind_spd_kmh: 13\n",
      "01/08:30pm air_temp: 13.8, wind_spd_kmh: 11\n",
      "01/08:00pm air_temp: 14.0, wind_spd_kmh: 9\n",
      "01/07:30pm air_temp: 14.3, wind_spd_kmh: 11\n",
      "01/07:00pm air_temp: 14.7, wind_spd_kmh: 13\n",
      "01/06:30pm air_temp: 14.8, wind_spd_kmh: 9\n",
      "01/06:00pm air_temp: 15.3, wind_spd_kmh: 11\n",
      "01/05:30pm air_temp: 15.9, wind_spd_kmh: 13\n",
      "01/05:00pm air_temp: 16.4, wind_spd_kmh: 13\n",
      "01/04:30pm air_temp: 16.8, wind_spd_kmh: 11\n",
      "01/04:00pm air_temp: 17.8, wind_spd_kmh: 13\n",
      "01/03:30pm air_temp: 18.0, wind_spd_kmh: 13\n",
      "01/03:00pm air_temp: 18.3, wind_spd_kmh: 9\n"
     ]
    }
   ],
   "source": [
    "bom_data = requests.get('http://reg.bom.gov.au/fwo/IDV60901/IDV60901.95936.json').json()['observations']['data']\n",
    "for i in range(len(bom_data)):\n",
    "    print(f\"{bom_data[i]['local_date_time']} air_temp: {bom_data[i]['air_temp']}, wind_spd_kmh: {bom_data[i]['wind_spd_kmh']}\")"
   ]
  },
  {
   "cell_type": "code",
   "execution_count": null,
   "id": "c711e6b5",
   "metadata": {},
   "outputs": [],
   "source": []
  }
 ],
 "metadata": {
  "kernelspec": {
   "display_name": "Python 3 (ipykernel)",
   "language": "python",
   "name": "python3"
  },
  "language_info": {
   "codemirror_mode": {
    "name": "ipython",
    "version": 3
   },
   "file_extension": ".py",
   "mimetype": "text/x-python",
   "name": "python",
   "nbconvert_exporter": "python",
   "pygments_lexer": "ipython3",
   "version": "3.10.9"
  }
 },
 "nbformat": 4,
 "nbformat_minor": 5
}
