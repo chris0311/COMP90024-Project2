{
 "cells": [
  {
   "cell_type": "code",
   "outputs": [],
   "source": [
    "import geopandas as gpd\n",
    "import requests\n",
    "\n",
    "shapefile_path = 'geo/SA2_2021_AUST_SHP_GDA2020/SA2_2021_AUST_GDA2020.shp'\n",
    "gdf = gpd.read_file(shapefile_path)\n",
    "\n",
    "def get_median_age(sa2_code):\n",
    "    res = requests.get(url=f'http://127.0.0.1:9090/sa2/{sa2_code}/age')\n",
    "    try:\n",
    "        res = float(res.text)\n",
    "    except ValueError:\n",
    "        res = None\n",
    "    return res\n",
    "\n",
    "gdf['median_age'] = gdf['SA2_CODE21'].apply(get_median_age)\n",
    "gdf.head()"
   ],
   "metadata": {
    "collapsed": false
   },
   "id": "37d3b755d9ddb206"
  }
 ],
 "metadata": {
  "kernelspec": {
   "display_name": "Python 3",
   "language": "python",
   "name": "python3"
  },
  "language_info": {
   "codemirror_mode": {
    "name": "ipython",
    "version": 2
   },
   "file_extension": ".py",
   "mimetype": "text/x-python",
   "name": "python",
   "nbconvert_exporter": "python",
   "pygments_lexer": "ipython2",
   "version": "2.7.6"
  }
 },
 "nbformat": 4,
 "nbformat_minor": 5
}
