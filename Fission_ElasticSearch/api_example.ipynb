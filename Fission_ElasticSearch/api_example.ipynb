{
 "cells": [
  {
   "cell_type": "markdown",
   "metadata": {},
   "source": [
    "# Before Using\n",
    "1. Source the `openrc` file\n",
    "```shell\n",
    "source ./<your project name>-openrc.sh \n",
    "```\n",
    "2. Connect to the bastion node\n",
    "```shell\n",
    "ssh -i <path-to-private-key> (e.g. ~/Downloads/mykeypair.pem) -L 6443:$(openstack coe cluster show elastic -f json | jq -r '.master_addresses[]'):6443 ubuntu@$(openstack server show bastion -c addresses -f json | jq -r '.addresses[\"qh2-uom-internal\"][]')\n",
    "```\n",
    "3. Port Foward\n",
    "In one terminal\n",
    "```shell\n",
    "kubectl port-forward service/elasticsearch-master -n elastic 9200:9200 \n",
    "```\n",
    "In another terminal\n",
    "```sh\n",
    "kubectl port-forward service/kibana-kibana -n elastic 5601:5601\n",
    "```\n",
    "In the third terminal \n",
    "```sh\n",
    "kubectl port-forward service/router -n fission 9090:80\n",
    "```\n",
    "4. Install package\n",
    "```sh\n",
    "pip install requests\n",
    "```"
   ]
  },
  {
   "cell_type": "markdown",
   "metadata": {},
   "source": [
    "# TODO\n",
    "[ ] Simplify usage for single date query"
   ]
  },
  {
   "cell_type": "markdown",
   "metadata": {},
   "source": [
    "# Use API"
   ]
  },
  {
   "cell_type": "markdown",
   "metadata": {},
   "source": [
    "## The concat API"
   ]
  },
  {
   "cell_type": "code",
   "execution_count": null,
   "metadata": {},
   "outputs": [],
   "source": [
    "import requests\n",
    "import pandas as pd"
   ]
  },
  {
   "cell_type": "code",
   "execution_count": null,
   "metadata": {},
   "outputs": [],
   "source": [
    "start_date = \"2024-05-17\"  # start date of data query\n",
    "end_date = \"2024-05-18\"  # end date of data query\n",
    "size = 30  # max number of entries in the concat data (optional, default is 20)\n",
    "bsize = 100  # max number of entries in the bom dataset (optional, default is 20)\n",
    "msize = 100  # max number of entries in the mastodon dataset (optional, default is 20)\n",
    "\n",
    "res = requests.get(url=f'http://127.0.0.1:9090/concat/{start_date}/{end_date}?size={size}&bsize={bsize}&msize={msize}')\n",
    "\n",
    "print(res.status_code, res.json())"
   ]
  },
  {
   "cell_type": "code",
   "execution_count": null,
   "metadata": {},
   "outputs": [],
   "source": [
    "res_df = pd.DataFrame(res.json())\n",
    "res_df['created_at'] = pd.to_datetime(res_df['created_at'])\n",
    "res_df"
   ]
  },
  {
   "cell_type": "markdown",
   "metadata": {},
   "source": [
    "## The BOM API\n",
    "Use this api to query data in the BOM index"
   ]
  },
  {
   "cell_type": "code",
   "execution_count": null,
   "metadata": {},
   "outputs": [],
   "source": [
    "# size parameter is used to limit the number of entries in the bom dataset\n",
    "bom_res = requests.get(url=f'http://127.0.0.1:9090/bomquery/{start_date}/{end_date}?size={size}')\n",
    "\n",
    "print(bom_res.status_code, bom_res.json())"
   ]
  },
  {
   "cell_type": "code",
   "execution_count": null,
   "metadata": {},
   "outputs": [],
   "source": [
    "bom_hit = pd.DataFrame(bom_res.json()['hits']['hits'])\n",
    "bom_data = []\n",
    "for data in bom_hit['_source']:\n",
    "    bom_data.append(data)\n",
    "\n",
    "bom_df = pd.DataFrame(bom_data)\n",
    "bom_df"
   ]
  },
  {
   "cell_type": "markdown",
   "metadata": {},
   "source": [
    "## The Mostodon API"
   ]
  },
  {
   "cell_type": "code",
   "execution_count": null,
   "metadata": {},
   "outputs": [],
   "source": [
    "# size parameter is used to limit the number of entries in the bom dataset\n",
    "m_res = requests.get(url=f'http://127.0.0.1:9090/mquery/{start_date}/{end_date}?size={size}')\n",
    "\n",
    "print(m_res.status_code, m_res.json())"
   ]
  },
  {
   "cell_type": "code",
   "execution_count": null,
   "metadata": {},
   "outputs": [],
   "source": [
    "m_hit = pd.DataFrame(m_res.json()['hits']['hits'])\n",
    "m_data = []\n",
    "for data in m_hit['_source']:\n",
    "    m_data.append(data)\n",
    "\n",
    "m_df = pd.DataFrame(m_data)\n",
    "m_df"
   ]
  }
 ],
 "metadata": {
  "language_info": {
   "name": "python"
  }
 },
 "nbformat": 4,
 "nbformat_minor": 2
}
