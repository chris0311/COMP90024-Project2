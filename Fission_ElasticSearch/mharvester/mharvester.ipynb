{
 "cells": [
  {
   "cell_type": "code",
   "execution_count": 27,
   "metadata": {
    "ExecuteTime": {
     "end_time": "2024-05-10T08:33:48.770420Z",
     "start_time": "2024-05-10T08:33:48.743428Z"
    }
   },
   "outputs": [],
   "source": [
    "from flask import current_app, request\n",
    "from mastodon import Mastodon\n",
    "import json, time\n",
    "import pandas as pd\n",
    "from textblob import TextBlob\n",
    "import re\n",
    "from bs4 import BeautifulSoup"
   ]
  },
  {
   "cell_type": "code",
   "execution_count": 48,
   "metadata": {},
   "outputs": [],
   "source": [
    "def extract_text(html_content):\n",
    "    html_content = re.sub(r'href=\\S+', '', html_content)\n",
    "    # html_content = re.sub(r'http\\S+', '', html_content)\n",
    "    # html_content = re.sub(r'[\"\\']', '', html_content)\n",
    "    # html_content = re.sub(r'[^\\w\\s]', '', html_content)    \n",
    "\n",
    "    # Create a BeautifulSoup object and specify the parser\n",
    "    soup = BeautifulSoup(html_content, 'html.parser')\n",
    "    \n",
    "    # Remove elements that are meant to be invisible or are not relevant to text content\n",
    "    for element in soup.find_all(\"span\", class_=\"invisible\"):\n",
    "        element.decompose()  # This removes the element from the soup\n",
    "\n",
    "    # Extract text from the modified HTML\n",
    "    text = soup.get_text(separator=' ', strip=True)\n",
    "    return text"
   ]
  },
  {
   "cell_type": "code",
   "execution_count": 16,
   "metadata": {
    "ExecuteTime": {
     "start_time": "2024-05-10T08:33:39.326171Z"
    }
   },
   "outputs": [],
   "source": [
    "def main():\n",
    "    m = Mastodon(\n",
    "        api_base_url=f'https://mastodon.au'\n",
    "    )\n",
    "\n",
    "    # Get the ID of the lastid status main the public timeline\n",
    "    lastid= m.timeline(timeline='public', since_id=None, limit=1, remote=True)[0]['id']\n",
    "\n",
    "    # Sleep for 5 seconds to allow for some status to be posted before we fetch them\n",
    "    time.sleep(5)\n",
    "\n",
    "    # Fetch the statuses from the public timeline since the lastid\n",
    "    # return json.dumps(m.timeline(timeline='public', since_id=lastid, remote=True), default=str)\n",
    "\n",
    "    m_data = m.timeline(timeline='public', since_id=lastid, remote=True)\n",
    "\n",
    "    res = []\n",
    "    for data in m_data:\n",
    "        res.append({\n",
    "            'created_at': data['created_at'],\n",
    "            'content': data['content'],\n",
    "            # 'sar_age': data['sar_age'],\n",
    "            }\n",
    "        )\n",
    "\n",
    "    return res\n"
   ]
  },
  {
   "cell_type": "code",
   "execution_count": 55,
   "metadata": {},
   "outputs": [],
   "source": [
    "result = main()\n",
    "df = pd.DataFrame(result)\n"
   ]
  },
  {
   "cell_type": "code",
   "execution_count": 56,
   "metadata": {},
   "outputs": [
    {
     "data": {
      "text/html": [
       "<div>\n",
       "<style scoped>\n",
       "    .dataframe tbody tr th:only-of-type {\n",
       "        vertical-align: middle;\n",
       "    }\n",
       "\n",
       "    .dataframe tbody tr th {\n",
       "        vertical-align: top;\n",
       "    }\n",
       "\n",
       "    .dataframe thead th {\n",
       "        text-align: right;\n",
       "    }\n",
       "</style>\n",
       "<table border=\"1\" class=\"dataframe\">\n",
       "  <thead>\n",
       "    <tr style=\"text-align: right;\">\n",
       "      <th></th>\n",
       "      <th>created_at</th>\n",
       "      <th>content</th>\n",
       "    </tr>\n",
       "  </thead>\n",
       "  <tbody>\n",
       "    <tr>\n",
       "      <th>0</th>\n",
       "      <td>2024-05-10 08:57:56+00:00</td>\n",
       "      <td>&lt;p&gt;Having to squint at microscopic ingredient ...</td>\n",
       "    </tr>\n",
       "    <tr>\n",
       "      <th>1</th>\n",
       "      <td>2024-05-10 08:57:58+00:00</td>\n",
       "      <td>&lt;p&gt;New tariffs on Chinese EVs, other sectors e...</td>\n",
       "    </tr>\n",
       "  </tbody>\n",
       "</table>\n",
       "</div>"
      ],
      "text/plain": [
       "                 created_at                                            content\n",
       "0 2024-05-10 08:57:56+00:00  <p>Having to squint at microscopic ingredient ...\n",
       "1 2024-05-10 08:57:58+00:00  <p>New tariffs on Chinese EVs, other sectors e..."
      ]
     },
     "execution_count": 56,
     "metadata": {},
     "output_type": "execute_result"
    }
   ],
   "source": [
    "df"
   ]
  },
  {
   "cell_type": "code",
   "execution_count": 57,
   "metadata": {},
   "outputs": [
    {
     "data": {
      "text/html": [
       "<div>\n",
       "<style scoped>\n",
       "    .dataframe tbody tr th:only-of-type {\n",
       "        vertical-align: middle;\n",
       "    }\n",
       "\n",
       "    .dataframe tbody tr th {\n",
       "        vertical-align: top;\n",
       "    }\n",
       "\n",
       "    .dataframe thead th {\n",
       "        text-align: right;\n",
       "    }\n",
       "</style>\n",
       "<table border=\"1\" class=\"dataframe\">\n",
       "  <thead>\n",
       "    <tr style=\"text-align: right;\">\n",
       "      <th></th>\n",
       "      <th>created_at</th>\n",
       "      <th>content</th>\n",
       "    </tr>\n",
       "  </thead>\n",
       "  <tbody>\n",
       "    <tr>\n",
       "      <th>0</th>\n",
       "      <td>2024-05-10 08:57:56+00:00</td>\n",
       "      <td>Having to squint at microscopic ingredient lis...</td>\n",
       "    </tr>\n",
       "    <tr>\n",
       "      <th>1</th>\n",
       "      <td>2024-05-10 08:57:58+00:00</td>\n",
       "      <td>New tariffs on Chinese EVs, other sectors expe...</td>\n",
       "    </tr>\n",
       "  </tbody>\n",
       "</table>\n",
       "</div>"
      ],
      "text/plain": [
       "                 created_at                                            content\n",
       "0 2024-05-10 08:57:56+00:00  Having to squint at microscopic ingredient lis...\n",
       "1 2024-05-10 08:57:58+00:00  New tariffs on Chinese EVs, other sectors expe..."
      ]
     },
     "execution_count": 57,
     "metadata": {},
     "output_type": "execute_result"
    }
   ],
   "source": [
    "df['content'] = df['content'].apply(extract_text)\n",
    "df"
   ]
  },
  {
   "cell_type": "code",
   "execution_count": 59,
   "metadata": {},
   "outputs": [
    {
     "data": {
      "text/html": [
       "<div>\n",
       "<style scoped>\n",
       "    .dataframe tbody tr th:only-of-type {\n",
       "        vertical-align: middle;\n",
       "    }\n",
       "\n",
       "    .dataframe tbody tr th {\n",
       "        vertical-align: top;\n",
       "    }\n",
       "\n",
       "    .dataframe thead th {\n",
       "        text-align: right;\n",
       "    }\n",
       "</style>\n",
       "<table border=\"1\" class=\"dataframe\">\n",
       "  <thead>\n",
       "    <tr style=\"text-align: right;\">\n",
       "      <th></th>\n",
       "      <th>created_at</th>\n",
       "      <th>content</th>\n",
       "      <th>sentiment</th>\n",
       "    </tr>\n",
       "  </thead>\n",
       "  <tbody>\n",
       "    <tr>\n",
       "      <th>0</th>\n",
       "      <td>2024-05-10 08:57:56+00:00</td>\n",
       "      <td>Having to squint at microscopic ingredient lis...</td>\n",
       "      <td>0.321429</td>\n",
       "    </tr>\n",
       "    <tr>\n",
       "      <th>1</th>\n",
       "      <td>2024-05-10 08:57:58+00:00</td>\n",
       "      <td>New tariffs on Chinese EVs, other sectors expe...</td>\n",
       "      <td>-0.017727</td>\n",
       "    </tr>\n",
       "  </tbody>\n",
       "</table>\n",
       "</div>"
      ],
      "text/plain": [
       "                 created_at  \\\n",
       "0 2024-05-10 08:57:56+00:00   \n",
       "1 2024-05-10 08:57:58+00:00   \n",
       "\n",
       "                                             content  sentiment  \n",
       "0  Having to squint at microscopic ingredient lis...   0.321429  \n",
       "1  New tariffs on Chinese EVs, other sectors expe...  -0.017727  "
      ]
     },
     "execution_count": 59,
     "metadata": {},
     "output_type": "execute_result"
    }
   ],
   "source": [
    "df['sentiment'] = df['content'].apply(lambda x: TextBlob(x).sentiment.polarity)\n",
    "df"
   ]
  },
  {
   "cell_type": "code",
   "execution_count": 33,
   "metadata": {},
   "outputs": [
    {
     "data": {
      "text/plain": [
       "0.0"
      ]
     },
     "execution_count": 33,
     "metadata": {},
     "output_type": "execute_result"
    }
   ],
   "source": [
    "blob = TextBlob(extract_text(df['content'][1]))\n",
    "blob.sentiment.polarity"
   ]
  },
  {
   "cell_type": "code",
   "execution_count": 49,
   "metadata": {},
   "outputs": [
    {
     "data": {
      "text/plain": [
       "'ca.movies.yahoo.com/news/resea # archaeology # scotland (Researchers uncover Neolithic culinary traditions.)'"
      ]
     },
     "execution_count": 49,
     "metadata": {},
     "output_type": "execute_result"
    }
   ],
   "source": [
    "extract_text(df['content'][1])"
   ]
  },
  {
   "cell_type": "code",
   "execution_count": 50,
   "metadata": {},
   "outputs": [
    {
     "data": {
      "text/plain": [
       "\"So, I'm on this Shinkansen train in Japan ...\""
      ]
     },
     "execution_count": 50,
     "metadata": {},
     "output_type": "execute_result"
    }
   ],
   "source": [
    "extract_text(\"href=\\\"https://cloudisland.nz/tags/StarWa\\\" So, I'm on this Shinkansen train in Japan ...\")"
   ]
  },
  {
   "cell_type": "code",
   "execution_count": null,
   "metadata": {},
   "outputs": [],
   "source": []
  }
 ],
 "metadata": {
  "kernelspec": {
   "display_name": "COMP90024",
   "language": "python",
   "name": "python3"
  },
  "language_info": {
   "codemirror_mode": {
    "name": "ipython",
    "version": 3
   },
   "file_extension": ".py",
   "mimetype": "text/x-python",
   "name": "python",
   "nbconvert_exporter": "python",
   "pygments_lexer": "ipython3",
   "version": "3.11.9"
  }
 },
 "nbformat": 4,
 "nbformat_minor": 2
}
